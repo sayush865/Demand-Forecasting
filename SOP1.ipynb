{
  "nbformat": 4,
  "nbformat_minor": 0,
  "metadata": {
    "colab": {
      "name": "SOP1.ipynb",
      "provenance": [],
      "collapsed_sections": []
    },
    "kernelspec": {
      "name": "python3",
      "display_name": "Python 3"
    }
  },
  "cells": [
    {
      "cell_type": "code",
      "metadata": {
        "id": "nGVJ6eqaNT_P"
      },
      "source": [
        "import pandas as pd\n",
        "import numpy as np\n",
        "import matplotlib.pyplot as plt\n",
        "import seaborn as sns\n",
        "import pprint\n",
        "%matplotlib inline"
      ],
      "execution_count": null,
      "outputs": []
    },
    {
      "cell_type": "code",
      "metadata": {
        "colab": {
          "base_uri": "https://localhost:8080/",
          "height": 402
        },
        "id": "CbL4GoGLNXEr",
        "outputId": "6acdf107-62b5-4e6b-d3ae-cb0ac5cafdcd"
      },
      "source": [
        "url = 'https://www.datahubbs.com/wp-content/uploads/2017/03/timeseries.csv'\n",
        "df = pd.read_csv(url)\n",
        "df['date'] = pd.to_datetime(df['date'])\n",
        "df.head()\n",
        "df"
      ],
      "execution_count": null,
      "outputs": [
        {
          "output_type": "execute_result",
          "data": {
            "text/html": [
              "<div>\n",
              "<style scoped>\n",
              "    .dataframe tbody tr th:only-of-type {\n",
              "        vertical-align: middle;\n",
              "    }\n",
              "\n",
              "    .dataframe tbody tr th {\n",
              "        vertical-align: top;\n",
              "    }\n",
              "\n",
              "    .dataframe thead th {\n",
              "        text-align: right;\n",
              "    }\n",
              "</style>\n",
              "<table border=\"1\" class=\"dataframe\">\n",
              "  <thead>\n",
              "    <tr style=\"text-align: right;\">\n",
              "      <th></th>\n",
              "      <th>date</th>\n",
              "      <th>sales</th>\n",
              "    </tr>\n",
              "  </thead>\n",
              "  <tbody>\n",
              "    <tr>\n",
              "      <th>0</th>\n",
              "      <td>2015-01-01</td>\n",
              "      <td>106</td>\n",
              "    </tr>\n",
              "    <tr>\n",
              "      <th>1</th>\n",
              "      <td>2015-01-02</td>\n",
              "      <td>122</td>\n",
              "    </tr>\n",
              "    <tr>\n",
              "      <th>2</th>\n",
              "      <td>2015-01-03</td>\n",
              "      <td>127</td>\n",
              "    </tr>\n",
              "    <tr>\n",
              "      <th>3</th>\n",
              "      <td>2015-01-04</td>\n",
              "      <td>106</td>\n",
              "    </tr>\n",
              "    <tr>\n",
              "      <th>4</th>\n",
              "      <td>2015-01-05</td>\n",
              "      <td>89</td>\n",
              "    </tr>\n",
              "    <tr>\n",
              "      <th>...</th>\n",
              "      <td>...</td>\n",
              "      <td>...</td>\n",
              "    </tr>\n",
              "    <tr>\n",
              "      <th>725</th>\n",
              "      <td>2016-12-26</td>\n",
              "      <td>102</td>\n",
              "    </tr>\n",
              "    <tr>\n",
              "      <th>726</th>\n",
              "      <td>2016-12-27</td>\n",
              "      <td>120</td>\n",
              "    </tr>\n",
              "    <tr>\n",
              "      <th>727</th>\n",
              "      <td>2016-12-28</td>\n",
              "      <td>121</td>\n",
              "    </tr>\n",
              "    <tr>\n",
              "      <th>728</th>\n",
              "      <td>2016-12-29</td>\n",
              "      <td>133</td>\n",
              "    </tr>\n",
              "    <tr>\n",
              "      <th>729</th>\n",
              "      <td>2016-12-30</td>\n",
              "      <td>112</td>\n",
              "    </tr>\n",
              "  </tbody>\n",
              "</table>\n",
              "<p>730 rows × 2 columns</p>\n",
              "</div>"
            ],
            "text/plain": [
              "          date  sales\n",
              "0   2015-01-01    106\n",
              "1   2015-01-02    122\n",
              "2   2015-01-03    127\n",
              "3   2015-01-04    106\n",
              "4   2015-01-05     89\n",
              "..         ...    ...\n",
              "725 2016-12-26    102\n",
              "726 2016-12-27    120\n",
              "727 2016-12-28    121\n",
              "728 2016-12-29    133\n",
              "729 2016-12-30    112\n",
              "\n",
              "[730 rows x 2 columns]"
            ]
          },
          "metadata": {
            "tags": []
          },
          "execution_count": 2
        }
      ]
    },
    {
      "cell_type": "code",
      "metadata": {
        "colab": {
          "base_uri": "https://localhost:8080/",
          "height": 284
        },
        "id": "P-vBCBclNhsF",
        "outputId": "c1a79550-957f-4d9d-d951-ce8b3fa4ef7f"
      },
      "source": [
        "df.describe()\n"
      ],
      "execution_count": null,
      "outputs": [
        {
          "output_type": "execute_result",
          "data": {
            "text/html": [
              "<div>\n",
              "<style scoped>\n",
              "    .dataframe tbody tr th:only-of-type {\n",
              "        vertical-align: middle;\n",
              "    }\n",
              "\n",
              "    .dataframe tbody tr th {\n",
              "        vertical-align: top;\n",
              "    }\n",
              "\n",
              "    .dataframe thead th {\n",
              "        text-align: right;\n",
              "    }\n",
              "</style>\n",
              "<table border=\"1\" class=\"dataframe\">\n",
              "  <thead>\n",
              "    <tr style=\"text-align: right;\">\n",
              "      <th></th>\n",
              "      <th>sales</th>\n",
              "    </tr>\n",
              "  </thead>\n",
              "  <tbody>\n",
              "    <tr>\n",
              "      <th>count</th>\n",
              "      <td>730.000000</td>\n",
              "    </tr>\n",
              "    <tr>\n",
              "      <th>mean</th>\n",
              "      <td>112.242466</td>\n",
              "    </tr>\n",
              "    <tr>\n",
              "      <th>std</th>\n",
              "      <td>13.666420</td>\n",
              "    </tr>\n",
              "    <tr>\n",
              "      <th>min</th>\n",
              "      <td>66.000000</td>\n",
              "    </tr>\n",
              "    <tr>\n",
              "      <th>25%</th>\n",
              "      <td>103.000000</td>\n",
              "    </tr>\n",
              "    <tr>\n",
              "      <th>50%</th>\n",
              "      <td>112.000000</td>\n",
              "    </tr>\n",
              "    <tr>\n",
              "      <th>75%</th>\n",
              "      <td>122.000000</td>\n",
              "    </tr>\n",
              "    <tr>\n",
              "      <th>max</th>\n",
              "      <td>150.000000</td>\n",
              "    </tr>\n",
              "  </tbody>\n",
              "</table>\n",
              "</div>"
            ],
            "text/plain": [
              "            sales\n",
              "count  730.000000\n",
              "mean   112.242466\n",
              "std     13.666420\n",
              "min     66.000000\n",
              "25%    103.000000\n",
              "50%    112.000000\n",
              "75%    122.000000\n",
              "max    150.000000"
            ]
          },
          "metadata": {
            "tags": []
          },
          "execution_count": 3
        }
      ]
    },
    {
      "cell_type": "code",
      "metadata": {
        "colab": {
          "base_uri": "https://localhost:8080/",
          "height": 278
        },
        "id": "iWFAQj5qdaKf",
        "outputId": "389a9ed6-1c76-4514-8c3f-5d170e2d7650"
      },
      "source": [
        "dataset = df\n",
        "dataset[\"Month\"] = pd.to_datetime(df[\"date\"]).dt.month\n",
        "dataset[\"Year\"] = pd.to_datetime(df[\"date\"]).dt.year\n",
        "dataset[\"Date\"] = pd.to_datetime(df[\"date\"]).dt.date\n",
        "dataset[\"Week\"] = pd.to_datetime(df[\"date\"]).dt.week\n",
        "dataset[\"Day\"] = pd.to_datetime(df[\"date\"]).dt.day_name()\n",
        "dataset = df.set_index(\"date\")\n",
        "dataset.index = pd.to_datetime(dataset.index)\n",
        "dataset.head()"
      ],
      "execution_count": null,
      "outputs": [
        {
          "output_type": "stream",
          "text": [
            "/usr/local/lib/python3.7/dist-packages/ipykernel_launcher.py:5: FutureWarning: Series.dt.weekofyear and Series.dt.week have been deprecated.  Please use Series.dt.isocalendar().week instead.\n",
            "  \"\"\"\n"
          ],
          "name": "stderr"
        },
        {
          "output_type": "execute_result",
          "data": {
            "text/html": [
              "<div>\n",
              "<style scoped>\n",
              "    .dataframe tbody tr th:only-of-type {\n",
              "        vertical-align: middle;\n",
              "    }\n",
              "\n",
              "    .dataframe tbody tr th {\n",
              "        vertical-align: top;\n",
              "    }\n",
              "\n",
              "    .dataframe thead th {\n",
              "        text-align: right;\n",
              "    }\n",
              "</style>\n",
              "<table border=\"1\" class=\"dataframe\">\n",
              "  <thead>\n",
              "    <tr style=\"text-align: right;\">\n",
              "      <th></th>\n",
              "      <th>sales</th>\n",
              "      <th>Month</th>\n",
              "      <th>Year</th>\n",
              "      <th>Date</th>\n",
              "      <th>Week</th>\n",
              "      <th>Day</th>\n",
              "    </tr>\n",
              "    <tr>\n",
              "      <th>date</th>\n",
              "      <th></th>\n",
              "      <th></th>\n",
              "      <th></th>\n",
              "      <th></th>\n",
              "      <th></th>\n",
              "      <th></th>\n",
              "    </tr>\n",
              "  </thead>\n",
              "  <tbody>\n",
              "    <tr>\n",
              "      <th>2015-01-01</th>\n",
              "      <td>106</td>\n",
              "      <td>1</td>\n",
              "      <td>2015</td>\n",
              "      <td>2015-01-01</td>\n",
              "      <td>1</td>\n",
              "      <td>Thursday</td>\n",
              "    </tr>\n",
              "    <tr>\n",
              "      <th>2015-01-02</th>\n",
              "      <td>122</td>\n",
              "      <td>1</td>\n",
              "      <td>2015</td>\n",
              "      <td>2015-01-02</td>\n",
              "      <td>1</td>\n",
              "      <td>Friday</td>\n",
              "    </tr>\n",
              "    <tr>\n",
              "      <th>2015-01-03</th>\n",
              "      <td>127</td>\n",
              "      <td>1</td>\n",
              "      <td>2015</td>\n",
              "      <td>2015-01-03</td>\n",
              "      <td>1</td>\n",
              "      <td>Saturday</td>\n",
              "    </tr>\n",
              "    <tr>\n",
              "      <th>2015-01-04</th>\n",
              "      <td>106</td>\n",
              "      <td>1</td>\n",
              "      <td>2015</td>\n",
              "      <td>2015-01-04</td>\n",
              "      <td>1</td>\n",
              "      <td>Sunday</td>\n",
              "    </tr>\n",
              "    <tr>\n",
              "      <th>2015-01-05</th>\n",
              "      <td>89</td>\n",
              "      <td>1</td>\n",
              "      <td>2015</td>\n",
              "      <td>2015-01-05</td>\n",
              "      <td>2</td>\n",
              "      <td>Monday</td>\n",
              "    </tr>\n",
              "  </tbody>\n",
              "</table>\n",
              "</div>"
            ],
            "text/plain": [
              "            sales  Month  Year        Date  Week       Day\n",
              "date                                                      \n",
              "2015-01-01    106      1  2015  2015-01-01     1  Thursday\n",
              "2015-01-02    122      1  2015  2015-01-02     1    Friday\n",
              "2015-01-03    127      1  2015  2015-01-03     1  Saturday\n",
              "2015-01-04    106      1  2015  2015-01-04     1    Sunday\n",
              "2015-01-05     89      1  2015  2015-01-05     2    Monday"
            ]
          },
          "metadata": {
            "tags": []
          },
          "execution_count": 4
        }
      ]
    },
    {
      "cell_type": "code",
      "metadata": {
        "colab": {
          "base_uri": "https://localhost:8080/",
          "height": 374
        },
        "id": "oOIow_MhdavQ",
        "outputId": "8fd84125-9887-48ac-f8d8-789f7b8c27a9"
      },
      "source": [
        "plt.figure(figsize=(15,6))\n",
        "plt.title='Sales'\n",
        "plt.plot(df['date'], df['sales'])\n",
        "plt.ylabel='Sales'\n",
        "plt.xlabel= 'Date'\n",
        "plt.show()\n"
      ],
      "execution_count": null,
      "outputs": [
        {
          "output_type": "display_data",
          "data": {
            "image/png": "[encoded data removed]",
            "text/plain": [
              "<Figure size 1080x432 with 1 Axes>"
            ]
          },
          "metadata": {
            "tags": [],
            "needs_background": "light"
          }
        }
      ]
    },
    {
      "cell_type": "code",
      "metadata": {
        "colab": {
          "base_uri": "https://localhost:8080/",
          "height": 491
        },
        "id": "IByw_YyZddUF",
        "outputId": "085d7185-8ece-498e-aac2-9afa1488510f"
      },
      "source": [
        "from matplotlib import style\n",
        "\n",
        "fig = plt.figure()\n",
        "ax1 = plt.subplot2grid((1,1), (0,0))\n",
        "\n",
        "style.use('ggplot')\n",
        "\n",
        "sns.lineplot(x=dataset[\"Month\"], y=dataset[\"sales\"], data=df)\n",
        "sns.set(rc={'figure.figsize':(18,6)})\n",
        "\n",
        "plt.title('Sales Monthly')\n",
        "plt.xlabel(\"Date\")\n",
        "plt.ylabel(\"Sales\")\n",
        "plt.grid(True)\n",
        "plt.legend()\n",
        "\n",
        "for label in ax1.xaxis.get_ticklabels():\n",
        "    label.set_rotation(90)\n",
        "\n",
        "\n",
        "plt.title(\"Sales\")"
      ],
      "execution_count": null,
      "outputs": [
        {
          "output_type": "error",
          "ename": "TypeError",
          "evalue": "ignored",
          "traceback": [
            "\u001b[0;31m---------------------------------------------------------------------------\u001b[0m",
            "\u001b[0;31mTypeError\u001b[0m                                 Traceback (most recent call last)",
            "\u001b[0;32m<ipython-input-6-2d80f97dcefc>\u001b[0m in \u001b[0;36m<module>\u001b[0;34m()\u001b[0m\n\u001b[1;32m      9\u001b[0m \u001b[0msns\u001b[0m\u001b[0;34m.\u001b[0m\u001b[0mset\u001b[0m\u001b[0;34m(\u001b[0m\u001b[0mrc\u001b[0m\u001b[0;34m=\u001b[0m\u001b[0;34m{\u001b[0m\u001b[0;34m'figure.figsize'\u001b[0m\u001b[0;34m:\u001b[0m\u001b[0;34m(\u001b[0m\u001b[0;36m18\u001b[0m\u001b[0;34m,\u001b[0m\u001b[0;36m6\u001b[0m\u001b[0;34m)\u001b[0m\u001b[0;34m}\u001b[0m\u001b[0;34m)\u001b[0m\u001b[0;34m\u001b[0m\u001b[0;34m\u001b[0m\u001b[0m\n\u001b[1;32m     10\u001b[0m \u001b[0;34m\u001b[0m\u001b[0m\n\u001b[0;32m---> 11\u001b[0;31m \u001b[0mplt\u001b[0m\u001b[0;34m.\u001b[0m\u001b[0mtitle\u001b[0m\u001b[0;34m(\u001b[0m\u001b[0;34m'Sales Monthly'\u001b[0m\u001b[0;34m)\u001b[0m\u001b[0;34m\u001b[0m\u001b[0;34m\u001b[0m\u001b[0m\n\u001b[0m\u001b[1;32m     12\u001b[0m \u001b[0mplt\u001b[0m\u001b[0;34m.\u001b[0m\u001b[0mxlabel\u001b[0m\u001b[0;34m(\u001b[0m\u001b[0;34m\"Date\"\u001b[0m\u001b[0;34m)\u001b[0m\u001b[0;34m\u001b[0m\u001b[0;34m\u001b[0m\u001b[0m\n\u001b[1;32m     13\u001b[0m \u001b[0mplt\u001b[0m\u001b[0;34m.\u001b[0m\u001b[0mylabel\u001b[0m\u001b[0;34m(\u001b[0m\u001b[0;34m\"Sales\"\u001b[0m\u001b[0;34m)\u001b[0m\u001b[0;34m\u001b[0m\u001b[0;34m\u001b[0m\u001b[0m\n",
            "\u001b[0;31mTypeError\u001b[0m: 'str' object is not callable"
          ]
        },
        {
          "output_type": "display_data",
          "data": {
            "image/png": "[encoded data removed]",
            "text/plain": [
              "<Figure size 432x288 with 1 Axes>"
            ]
          },
          "metadata": {
            "tags": [],
            "needs_background": "light"
          }
        }
      ]
    },
    {
      "cell_type": "code",
      "metadata": {
        "colab": {
          "base_uri": "https://localhost:8080/",
          "height": 610
        },
        "id": "el8egDbJdfpC",
        "outputId": "a9f51e01-caa5-4d47-8757-cfcf56c6ad60"
      },
      "source": [
        "sns.distplot(dataset[\"sales\"])\n",
        "plt.title(\"Sales Distribution\")"
      ],
      "execution_count": null,
      "outputs": [
        {
          "output_type": "stream",
          "text": [
            "/usr/local/lib/python3.7/dist-packages/seaborn/distributions.py:2557: FutureWarning: `distplot` is a deprecated function and will be removed in a future version. Please adapt your code to use either `displot` (a figure-level function with similar flexibility) or `histplot` (an axes-level function for histograms).\n",
            "  warnings.warn(msg, FutureWarning)\n"
          ],
          "name": "stderr"
        },
        {
          "output_type": "error",
          "ename": "TypeError",
          "evalue": "ignored",
          "traceback": [
            "\u001b[0;31m---------------------------------------------------------------------------\u001b[0m",
            "\u001b[0;31mTypeError\u001b[0m                                 Traceback (most recent call last)",
            "\u001b[0;32m<ipython-input-7-266061bd7a61>\u001b[0m in \u001b[0;36m<module>\u001b[0;34m()\u001b[0m\n\u001b[1;32m      1\u001b[0m \u001b[0msns\u001b[0m\u001b[0;34m.\u001b[0m\u001b[0mdistplot\u001b[0m\u001b[0;34m(\u001b[0m\u001b[0mdataset\u001b[0m\u001b[0;34m[\u001b[0m\u001b[0;34m\"sales\"\u001b[0m\u001b[0;34m]\u001b[0m\u001b[0;34m)\u001b[0m\u001b[0;34m\u001b[0m\u001b[0;34m\u001b[0m\u001b[0m\n\u001b[0;32m----> 2\u001b[0;31m \u001b[0mplt\u001b[0m\u001b[0;34m.\u001b[0m\u001b[0mtitle\u001b[0m\u001b[0;34m(\u001b[0m\u001b[0;34m\"Sales Distribution\"\u001b[0m\u001b[0;34m)\u001b[0m\u001b[0;34m\u001b[0m\u001b[0;34m\u001b[0m\u001b[0m\n\u001b[0m",
            "\u001b[0;31mTypeError\u001b[0m: 'str' object is not callable"
          ]
        },
        {
          "output_type": "display_data",
          "data": {
            "image/png": "[encoded data removed]",
            "text/plain": [
              "<Figure size 1296x432 with 1 Axes>"
            ]
          },
          "metadata": {
            "tags": []
          }
        }
      ]
    },
    {
      "cell_type": "code",
      "metadata": {
        "id": "YGNU847kdpqt"
      },
      "source": [
        "NewDataset= dataset.resample('D').mean()"
      ],
      "execution_count": null,
      "outputs": []
    },
    {
      "cell_type": "code",
      "metadata": {
        "colab": {
          "base_uri": "https://localhost:8080/"
        },
        "id": "o4ve5fcvi9bi",
        "outputId": "93e83cca-c4cd-45d3-eeb8-099487f53bee"
      },
      "source": [
        "NewDataset.shape"
      ],
      "execution_count": null,
      "outputs": [
        {
          "output_type": "execute_result",
          "data": {
            "text/plain": [
              "(730, 4)"
            ]
          },
          "metadata": {
            "tags": []
          },
          "execution_count": 9
        }
      ]
    },
    {
      "cell_type": "code",
      "metadata": {
        "id": "89y0jOuai_P_"
      },
      "source": [
        "TestData = NewDataset.tail(100)\n",
        "\n",
        "Training_Set = NewDataset.iloc[:,0:1]\n",
        "\n",
        "Training_Set = Training_Set[:-100]"
      ],
      "execution_count": null,
      "outputs": []
    },
    {
      "cell_type": "code",
      "metadata": {
        "colab": {
          "base_uri": "https://localhost:8080/",
          "height": 431
        },
        "id": "YOux5_IEjBtG",
        "outputId": "a6a7fda2-8691-4afc-821f-931f18970fea"
      },
      "source": [
        "Training_Set"
      ],
      "execution_count": null,
      "outputs": [
        {
          "output_type": "execute_result",
          "data": {
            "text/html": [
              "<div>\n",
              "<style scoped>\n",
              "    .dataframe tbody tr th:only-of-type {\n",
              "        vertical-align: middle;\n",
              "    }\n",
              "\n",
              "    .dataframe tbody tr th {\n",
              "        vertical-align: top;\n",
              "    }\n",
              "\n",
              "    .dataframe thead th {\n",
              "        text-align: right;\n",
              "    }\n",
              "</style>\n",
              "<table border=\"1\" class=\"dataframe\">\n",
              "  <thead>\n",
              "    <tr style=\"text-align: right;\">\n",
              "      <th></th>\n",
              "      <th>sales</th>\n",
              "    </tr>\n",
              "    <tr>\n",
              "      <th>date</th>\n",
              "      <th></th>\n",
              "    </tr>\n",
              "  </thead>\n",
              "  <tbody>\n",
              "    <tr>\n",
              "      <th>2015-01-01</th>\n",
              "      <td>106</td>\n",
              "    </tr>\n",
              "    <tr>\n",
              "      <th>2015-01-02</th>\n",
              "      <td>122</td>\n",
              "    </tr>\n",
              "    <tr>\n",
              "      <th>2015-01-03</th>\n",
              "      <td>127</td>\n",
              "    </tr>\n",
              "    <tr>\n",
              "      <th>2015-01-04</th>\n",
              "      <td>106</td>\n",
              "    </tr>\n",
              "    <tr>\n",
              "      <th>2015-01-05</th>\n",
              "      <td>89</td>\n",
              "    </tr>\n",
              "    <tr>\n",
              "      <th>...</th>\n",
              "      <td>...</td>\n",
              "    </tr>\n",
              "    <tr>\n",
              "      <th>2016-09-17</th>\n",
              "      <td>136</td>\n",
              "    </tr>\n",
              "    <tr>\n",
              "      <th>2016-09-18</th>\n",
              "      <td>147</td>\n",
              "    </tr>\n",
              "    <tr>\n",
              "      <th>2016-09-19</th>\n",
              "      <td>128</td>\n",
              "    </tr>\n",
              "    <tr>\n",
              "      <th>2016-09-20</th>\n",
              "      <td>105</td>\n",
              "    </tr>\n",
              "    <tr>\n",
              "      <th>2016-09-21</th>\n",
              "      <td>150</td>\n",
              "    </tr>\n",
              "  </tbody>\n",
              "</table>\n",
              "<p>630 rows × 1 columns</p>\n",
              "</div>"
            ],
            "text/plain": [
              "            sales\n",
              "date             \n",
              "2015-01-01    106\n",
              "2015-01-02    122\n",
              "2015-01-03    127\n",
              "2015-01-04    106\n",
              "2015-01-05     89\n",
              "...           ...\n",
              "2016-09-17    136\n",
              "2016-09-18    147\n",
              "2016-09-19    128\n",
              "2016-09-20    105\n",
              "2016-09-21    150\n",
              "\n",
              "[630 rows x 1 columns]"
            ]
          },
          "metadata": {
            "tags": []
          },
          "execution_count": 45
        }
      ]
    },
    {
      "cell_type": "code",
      "metadata": {
        "colab": {
          "base_uri": "https://localhost:8080/",
          "height": 431
        },
        "id": "MjCwZjp-jDrS",
        "outputId": "f46c7c94-8ccd-4198-9815-605e47ca16da"
      },
      "source": [
        "TestData"
      ],
      "execution_count": null,
      "outputs": [
        {
          "output_type": "execute_result",
          "data": {
            "text/html": [
              "<div>\n",
              "<style scoped>\n",
              "    .dataframe tbody tr th:only-of-type {\n",
              "        vertical-align: middle;\n",
              "    }\n",
              "\n",
              "    .dataframe tbody tr th {\n",
              "        vertical-align: top;\n",
              "    }\n",
              "\n",
              "    .dataframe thead th {\n",
              "        text-align: right;\n",
              "    }\n",
              "</style>\n",
              "<table border=\"1\" class=\"dataframe\">\n",
              "  <thead>\n",
              "    <tr style=\"text-align: right;\">\n",
              "      <th></th>\n",
              "      <th>sales</th>\n",
              "      <th>Month</th>\n",
              "      <th>Year</th>\n",
              "      <th>Week</th>\n",
              "    </tr>\n",
              "    <tr>\n",
              "      <th>date</th>\n",
              "      <th></th>\n",
              "      <th></th>\n",
              "      <th></th>\n",
              "      <th></th>\n",
              "    </tr>\n",
              "  </thead>\n",
              "  <tbody>\n",
              "    <tr>\n",
              "      <th>2016-09-22</th>\n",
              "      <td>132</td>\n",
              "      <td>9</td>\n",
              "      <td>2016</td>\n",
              "      <td>38</td>\n",
              "    </tr>\n",
              "    <tr>\n",
              "      <th>2016-09-23</th>\n",
              "      <td>127</td>\n",
              "      <td>9</td>\n",
              "      <td>2016</td>\n",
              "      <td>38</td>\n",
              "    </tr>\n",
              "    <tr>\n",
              "      <th>2016-09-24</th>\n",
              "      <td>122</td>\n",
              "      <td>9</td>\n",
              "      <td>2016</td>\n",
              "      <td>38</td>\n",
              "    </tr>\n",
              "    <tr>\n",
              "      <th>2016-09-25</th>\n",
              "      <td>121</td>\n",
              "      <td>9</td>\n",
              "      <td>2016</td>\n",
              "      <td>38</td>\n",
              "    </tr>\n",
              "    <tr>\n",
              "      <th>2016-09-26</th>\n",
              "      <td>101</td>\n",
              "      <td>9</td>\n",
              "      <td>2016</td>\n",
              "      <td>39</td>\n",
              "    </tr>\n",
              "    <tr>\n",
              "      <th>...</th>\n",
              "      <td>...</td>\n",
              "      <td>...</td>\n",
              "      <td>...</td>\n",
              "      <td>...</td>\n",
              "    </tr>\n",
              "    <tr>\n",
              "      <th>2016-12-26</th>\n",
              "      <td>102</td>\n",
              "      <td>12</td>\n",
              "      <td>2016</td>\n",
              "      <td>52</td>\n",
              "    </tr>\n",
              "    <tr>\n",
              "      <th>2016-12-27</th>\n",
              "      <td>120</td>\n",
              "      <td>12</td>\n",
              "      <td>2016</td>\n",
              "      <td>52</td>\n",
              "    </tr>\n",
              "    <tr>\n",
              "      <th>2016-12-28</th>\n",
              "      <td>121</td>\n",
              "      <td>12</td>\n",
              "      <td>2016</td>\n",
              "      <td>52</td>\n",
              "    </tr>\n",
              "    <tr>\n",
              "      <th>2016-12-29</th>\n",
              "      <td>133</td>\n",
              "      <td>12</td>\n",
              "      <td>2016</td>\n",
              "      <td>52</td>\n",
              "    </tr>\n",
              "    <tr>\n",
              "      <th>2016-12-30</th>\n",
              "      <td>112</td>\n",
              "      <td>12</td>\n",
              "      <td>2016</td>\n",
              "      <td>52</td>\n",
              "    </tr>\n",
              "  </tbody>\n",
              "</table>\n",
              "<p>100 rows × 4 columns</p>\n",
              "</div>"
            ],
            "text/plain": [
              "            sales  Month  Year  Week\n",
              "date                                \n",
              "2016-09-22    132      9  2016    38\n",
              "2016-09-23    127      9  2016    38\n",
              "2016-09-24    122      9  2016    38\n",
              "2016-09-25    121      9  2016    38\n",
              "2016-09-26    101      9  2016    39\n",
              "...           ...    ...   ...   ...\n",
              "2016-12-26    102     12  2016    52\n",
              "2016-12-27    120     12  2016    52\n",
              "2016-12-28    121     12  2016    52\n",
              "2016-12-29    133     12  2016    52\n",
              "2016-12-30    112     12  2016    52\n",
              "\n",
              "[100 rows x 4 columns]"
            ]
          },
          "metadata": {
            "tags": []
          },
          "execution_count": 46
        }
      ]
    },
    {
      "cell_type": "code",
      "metadata": {
        "colab": {
          "base_uri": "https://localhost:8080/"
        },
        "id": "htMFOmwPjFOf",
        "outputId": "7fe2aa9b-16e3-4bf5-f989-2f1f21b559cf"
      },
      "source": [
        "print(\"Training Set Shape \", Training_Set.shape)\n",
        "print(\"Test Set Shape \", TestData.shape)"
      ],
      "execution_count": null,
      "outputs": [
        {
          "output_type": "stream",
          "text": [
            "Training Set Shape  (630, 1)\n",
            "Test Set Shape  (100, 4)\n"
          ],
          "name": "stdout"
        }
      ]
    },
    {
      "cell_type": "code",
      "metadata": {
        "id": "32wOaV2mjHEF"
      },
      "source": [
        "from sklearn.preprocessing import MinMaxScaler\n",
        "\n",
        "sc = MinMaxScaler(feature_range=(0, 1))\n",
        "Train = sc.fit_transform(Training_Set)"
      ],
      "execution_count": null,
      "outputs": []
    },
    {
      "cell_type": "code",
      "metadata": {
        "colab": {
          "base_uri": "https://localhost:8080/"
        },
        "id": "gNUllDwbS2a6",
        "outputId": "e1f06477-b48c-43f3-e83a-4bf58b18d8b6"
      },
      "source": [
        "Train"
      ],
      "execution_count": null,
      "outputs": [
        {
          "output_type": "execute_result",
          "data": {
            "text/plain": [
              "array([[0.47619048],\n",
              "       [0.66666667],\n",
              "       [0.72619048],\n",
              "       [0.47619048],\n",
              "       [0.27380952],\n",
              "       [0.46428571],\n",
              "       [0.52380952],\n",
              "       [0.30952381],\n",
              "       [0.4047619 ],\n",
              "       [0.63095238],\n",
              "       [0.70238095],\n",
              "       [0.32142857],\n",
              "       [0.55952381],\n",
              "       [0.5       ],\n",
              "       [0.55952381],\n",
              "       [0.39285714],\n",
              "       [0.5952381 ],\n",
              "       [0.48809524],\n",
              "       [0.53571429],\n",
              "       [0.46428571],\n",
              "       [0.51190476],\n",
              "       [0.51190476],\n",
              "       [0.42857143],\n",
              "       [0.39285714],\n",
              "       [0.54761905],\n",
              "       [0.60714286],\n",
              "       [0.48809524],\n",
              "       [0.41666667],\n",
              "       [0.5952381 ],\n",
              "       [0.63095238],\n",
              "       [0.39285714],\n",
              "       [0.36904762],\n",
              "       [0.        ],\n",
              "       [0.51190476],\n",
              "       [0.3452381 ],\n",
              "       [0.28571429],\n",
              "       [0.46428571],\n",
              "       [0.45238095],\n",
              "       [0.44047619],\n",
              "       [0.27380952],\n",
              "       [0.23809524],\n",
              "       [0.33333333],\n",
              "       [0.38095238],\n",
              "       [0.11904762],\n",
              "       [0.53571429],\n",
              "       [0.17857143],\n",
              "       [0.32142857],\n",
              "       [0.23809524],\n",
              "       [0.38095238],\n",
              "       [0.3452381 ],\n",
              "       [0.39285714],\n",
              "       [0.45238095],\n",
              "       [0.28571429],\n",
              "       [0.39285714],\n",
              "       [0.3452381 ],\n",
              "       [0.1547619 ],\n",
              "       [0.36904762],\n",
              "       [0.47619048],\n",
              "       [0.46428571],\n",
              "       [0.28571429],\n",
              "       [0.54761905],\n",
              "       [0.35714286],\n",
              "       [0.36904762],\n",
              "       [0.51190476],\n",
              "       [0.42857143],\n",
              "       [0.64285714],\n",
              "       [0.51190476],\n",
              "       [0.61904762],\n",
              "       [0.51190476],\n",
              "       [0.54761905],\n",
              "       [0.5952381 ],\n",
              "       [0.28571429],\n",
              "       [0.47619048],\n",
              "       [0.36904762],\n",
              "       [0.38095238],\n",
              "       [0.64285714],\n",
              "       [0.6547619 ],\n",
              "       [0.57142857],\n",
              "       [0.51190476],\n",
              "       [0.53571429],\n",
              "       [0.72619048],\n",
              "       [0.46428571],\n",
              "       [0.58333333],\n",
              "       [0.52380952],\n",
              "       [0.83333333],\n",
              "       [0.60714286],\n",
              "       [0.47619048],\n",
              "       [0.70238095],\n",
              "       [0.46428571],\n",
              "       [0.44047619],\n",
              "       [0.3452381 ],\n",
              "       [0.38095238],\n",
              "       [0.30952381],\n",
              "       [0.66666667],\n",
              "       [0.36904762],\n",
              "       [0.35714286],\n",
              "       [0.33333333],\n",
              "       [0.25      ],\n",
              "       [0.28571429],\n",
              "       [0.38095238],\n",
              "       [0.30952381],\n",
              "       [0.41666667],\n",
              "       [0.25      ],\n",
              "       [0.19047619],\n",
              "       [0.21428571],\n",
              "       [0.44047619],\n",
              "       [0.27380952],\n",
              "       [0.04761905],\n",
              "       [0.5       ],\n",
              "       [0.10714286],\n",
              "       [0.27380952],\n",
              "       [0.30952381],\n",
              "       [0.11904762],\n",
              "       [0.17857143],\n",
              "       [0.44047619],\n",
              "       [0.4047619 ],\n",
              "       [0.4047619 ],\n",
              "       [0.41666667],\n",
              "       [0.4047619 ],\n",
              "       [0.3452381 ],\n",
              "       [0.35714286],\n",
              "       [0.42857143],\n",
              "       [0.36904762],\n",
              "       [0.33333333],\n",
              "       [0.54761905],\n",
              "       [0.76190476],\n",
              "       [0.42857143],\n",
              "       [0.3452381 ],\n",
              "       [0.52380952],\n",
              "       [0.53571429],\n",
              "       [0.64285714],\n",
              "       [0.53571429],\n",
              "       [0.54761905],\n",
              "       [0.63095238],\n",
              "       [0.63095238],\n",
              "       [0.69047619],\n",
              "       [0.5       ],\n",
              "       [0.45238095],\n",
              "       [0.42857143],\n",
              "       [0.54761905],\n",
              "       [0.77380952],\n",
              "       [0.45238095],\n",
              "       [0.39285714],\n",
              "       [0.71428571],\n",
              "       [0.69047619],\n",
              "       [0.39285714],\n",
              "       [0.41666667],\n",
              "       [0.54761905],\n",
              "       [0.55952381],\n",
              "       [0.45238095],\n",
              "       [0.46428571],\n",
              "       [0.38095238],\n",
              "       [0.28571429],\n",
              "       [0.39285714],\n",
              "       [0.39285714],\n",
              "       [0.35714286],\n",
              "       [0.32142857],\n",
              "       [0.58333333],\n",
              "       [0.38095238],\n",
              "       [0.39285714],\n",
              "       [0.39285714],\n",
              "       [0.46428571],\n",
              "       [0.35714286],\n",
              "       [0.30952381],\n",
              "       [0.39285714],\n",
              "       [0.21428571],\n",
              "       [0.46428571],\n",
              "       [0.5       ],\n",
              "       [0.17857143],\n",
              "       [0.5952381 ],\n",
              "       [0.55952381],\n",
              "       [0.38095238],\n",
              "       [0.22619048],\n",
              "       [0.58333333],\n",
              "       [0.33333333],\n",
              "       [0.36904762],\n",
              "       [0.39285714],\n",
              "       [0.52380952],\n",
              "       [0.46428571],\n",
              "       [0.44047619],\n",
              "       [0.57142857],\n",
              "       [0.41666667],\n",
              "       [0.58333333],\n",
              "       [0.46428571],\n",
              "       [0.54761905],\n",
              "       [0.41666667],\n",
              "       [0.63095238],\n",
              "       [0.57142857],\n",
              "       [0.51190476],\n",
              "       [0.35714286],\n",
              "       [0.64285714],\n",
              "       [0.57142857],\n",
              "       [0.5       ],\n",
              "       [0.60714286],\n",
              "       [0.60714286],\n",
              "       [0.64285714],\n",
              "       [0.54761905],\n",
              "       [0.76190476],\n",
              "       [0.58333333],\n",
              "       [0.60714286],\n",
              "       [0.71428571],\n",
              "       [0.5952381 ],\n",
              "       [0.6547619 ],\n",
              "       [0.51190476],\n",
              "       [0.42857143],\n",
              "       [0.55952381],\n",
              "       [0.64285714],\n",
              "       [0.54761905],\n",
              "       [0.3452381 ],\n",
              "       [0.17857143],\n",
              "       [0.45238095],\n",
              "       [0.3452381 ],\n",
              "       [0.4047619 ],\n",
              "       [0.36904762],\n",
              "       [0.35714286],\n",
              "       [0.51190476],\n",
              "       [0.44047619],\n",
              "       [0.52380952],\n",
              "       [0.54761905],\n",
              "       [0.45238095],\n",
              "       [0.58333333],\n",
              "       [0.38095238],\n",
              "       [0.4047619 ],\n",
              "       [0.45238095],\n",
              "       [0.53571429],\n",
              "       [0.39285714],\n",
              "       [0.13095238],\n",
              "       [0.42857143],\n",
              "       [0.32142857],\n",
              "       [0.29761905],\n",
              "       [0.32142857],\n",
              "       [0.39285714],\n",
              "       [0.52380952],\n",
              "       [0.14285714],\n",
              "       [0.6547619 ],\n",
              "       [0.48809524],\n",
              "       [0.47619048],\n",
              "       [0.39285714],\n",
              "       [0.48809524],\n",
              "       [0.32142857],\n",
              "       [0.5952381 ],\n",
              "       [0.54761905],\n",
              "       [0.5       ],\n",
              "       [0.45238095],\n",
              "       [0.5       ],\n",
              "       [0.45238095],\n",
              "       [0.41666667],\n",
              "       [0.5952381 ],\n",
              "       [0.5952381 ],\n",
              "       [0.53571429],\n",
              "       [0.6547619 ],\n",
              "       [0.57142857],\n",
              "       [0.61904762],\n",
              "       [0.66666667],\n",
              "       [0.67857143],\n",
              "       [0.48809524],\n",
              "       [0.72619048],\n",
              "       [0.5952381 ],\n",
              "       [0.76190476],\n",
              "       [0.79761905],\n",
              "       [0.57142857],\n",
              "       [0.54761905],\n",
              "       [0.58333333],\n",
              "       [0.57142857],\n",
              "       [0.55952381],\n",
              "       [0.63095238],\n",
              "       [0.53571429],\n",
              "       [0.52380952],\n",
              "       [0.51190476],\n",
              "       [0.77380952],\n",
              "       [0.57142857],\n",
              "       [0.54761905],\n",
              "       [0.55952381],\n",
              "       [0.46428571],\n",
              "       [0.33333333],\n",
              "       [0.46428571],\n",
              "       [0.26190476],\n",
              "       [0.5       ],\n",
              "       [0.57142857],\n",
              "       [0.51190476],\n",
              "       [0.52380952],\n",
              "       [0.6547619 ],\n",
              "       [0.42857143],\n",
              "       [0.55952381],\n",
              "       [0.4047619 ],\n",
              "       [0.25      ],\n",
              "       [0.33333333],\n",
              "       [0.28571429],\n",
              "       [0.29761905],\n",
              "       [0.35714286],\n",
              "       [0.45238095],\n",
              "       [0.36904762],\n",
              "       [0.5       ],\n",
              "       [0.21428571],\n",
              "       [0.28571429],\n",
              "       [0.26190476],\n",
              "       [0.44047619],\n",
              "       [0.55952381],\n",
              "       [0.51190476],\n",
              "       [0.29761905],\n",
              "       [0.70238095],\n",
              "       [0.42857143],\n",
              "       [0.46428571],\n",
              "       [0.30952381],\n",
              "       [0.82142857],\n",
              "       [0.54761905],\n",
              "       [0.66666667],\n",
              "       [0.54761905],\n",
              "       [0.54761905],\n",
              "       [0.52380952],\n",
              "       [0.5952381 ],\n",
              "       [0.69047619],\n",
              "       [0.75      ],\n",
              "       [0.95238095],\n",
              "       [0.67857143],\n",
              "       [0.5       ],\n",
              "       [0.5       ],\n",
              "       [0.54761905],\n",
              "       [0.48809524],\n",
              "       [0.79761905],\n",
              "       [0.54761905],\n",
              "       [0.63095238],\n",
              "       [0.53571429],\n",
              "       [0.54761905],\n",
              "       [0.48809524],\n",
              "       [0.42857143],\n",
              "       [0.5       ],\n",
              "       [0.58333333],\n",
              "       [0.6547619 ],\n",
              "       [0.51190476],\n",
              "       [0.66666667],\n",
              "       [0.63095238],\n",
              "       [0.46428571],\n",
              "       [0.78571429],\n",
              "       [0.6547619 ],\n",
              "       [0.33333333],\n",
              "       [0.44047619],\n",
              "       [0.55952381],\n",
              "       [0.48809524],\n",
              "       [0.3452381 ],\n",
              "       [0.42857143],\n",
              "       [0.41666667],\n",
              "       [0.23809524],\n",
              "       [0.28571429],\n",
              "       [0.46428571],\n",
              "       [0.48809524],\n",
              "       [0.52380952],\n",
              "       [0.70238095],\n",
              "       [0.51190476],\n",
              "       [0.5       ],\n",
              "       [0.47619048],\n",
              "       [0.4047619 ],\n",
              "       [0.53571429],\n",
              "       [0.4047619 ],\n",
              "       [0.28571429],\n",
              "       [0.54761905],\n",
              "       [0.45238095],\n",
              "       [0.55952381],\n",
              "       [0.4047619 ],\n",
              "       [0.45238095],\n",
              "       [0.48809524],\n",
              "       [0.4047619 ],\n",
              "       [0.53571429],\n",
              "       [0.46428571],\n",
              "       [0.5       ],\n",
              "       [0.66666667],\n",
              "       [0.6547619 ],\n",
              "       [0.67857143],\n",
              "       [0.77380952],\n",
              "       [0.73809524],\n",
              "       [0.67857143],\n",
              "       [0.66666667],\n",
              "       [0.77380952],\n",
              "       [0.79761905],\n",
              "       [0.71428571],\n",
              "       [0.69047619],\n",
              "       [0.5952381 ],\n",
              "       [0.66666667],\n",
              "       [0.60714286],\n",
              "       [0.57142857],\n",
              "       [0.73809524],\n",
              "       [0.44047619],\n",
              "       [0.86904762],\n",
              "       [0.86904762],\n",
              "       [0.58333333],\n",
              "       [0.58333333],\n",
              "       [0.64285714],\n",
              "       [0.71428571],\n",
              "       [0.78571429],\n",
              "       [0.86904762],\n",
              "       [0.72619048],\n",
              "       [0.61904762],\n",
              "       [0.70238095],\n",
              "       [0.48809524],\n",
              "       [0.72619048],\n",
              "       [0.53571429],\n",
              "       [0.57142857],\n",
              "       [0.48809524],\n",
              "       [0.57142857],\n",
              "       [0.61904762],\n",
              "       [0.46428571],\n",
              "       [0.41666667],\n",
              "       [0.61904762],\n",
              "       [0.66666667],\n",
              "       [0.23809524],\n",
              "       [0.47619048],\n",
              "       [0.42857143],\n",
              "       [0.55952381],\n",
              "       [0.54761905],\n",
              "       [0.41666667],\n",
              "       [0.48809524],\n",
              "       [0.13095238],\n",
              "       [0.36904762],\n",
              "       [0.58333333],\n",
              "       [0.54761905],\n",
              "       [0.60714286],\n",
              "       [0.44047619],\n",
              "       [0.44047619],\n",
              "       [0.45238095],\n",
              "       [0.48809524],\n",
              "       [0.41666667],\n",
              "       [0.53571429],\n",
              "       [0.57142857],\n",
              "       [0.52380952],\n",
              "       [0.58333333],\n",
              "       [0.61904762],\n",
              "       [0.76190476],\n",
              "       [0.64285714],\n",
              "       [0.6547619 ],\n",
              "       [0.69047619],\n",
              "       [0.58333333],\n",
              "       [0.69047619],\n",
              "       [0.48809524],\n",
              "       [0.71428571],\n",
              "       [0.55952381],\n",
              "       [0.66666667],\n",
              "       [0.53571429],\n",
              "       [0.78571429],\n",
              "       [0.79761905],\n",
              "       [0.63095238],\n",
              "       [0.57142857],\n",
              "       [0.73809524],\n",
              "       [0.61904762],\n",
              "       [0.73809524],\n",
              "       [0.70238095],\n",
              "       [0.77380952],\n",
              "       [0.5       ],\n",
              "       [0.69047619],\n",
              "       [0.71428571],\n",
              "       [0.3452381 ],\n",
              "       [0.48809524],\n",
              "       [0.55952381],\n",
              "       [0.66666667],\n",
              "       [0.51190476],\n",
              "       [0.71428571],\n",
              "       [0.63095238],\n",
              "       [0.66666667],\n",
              "       [0.57142857],\n",
              "       [0.42857143],\n",
              "       [0.48809524],\n",
              "       [0.51190476],\n",
              "       [0.45238095],\n",
              "       [0.61904762],\n",
              "       [0.28571429],\n",
              "       [0.6547619 ],\n",
              "       [0.33333333],\n",
              "       [0.41666667],\n",
              "       [0.58333333],\n",
              "       [0.35714286],\n",
              "       [0.83333333],\n",
              "       [0.38095238],\n",
              "       [0.33333333],\n",
              "       [0.48809524],\n",
              "       [0.5952381 ],\n",
              "       [0.54761905],\n",
              "       [0.33333333],\n",
              "       [0.5952381 ],\n",
              "       [0.72619048],\n",
              "       [0.42857143],\n",
              "       [0.45238095],\n",
              "       [0.66666667],\n",
              "       [0.57142857],\n",
              "       [0.67857143],\n",
              "       [0.55952381],\n",
              "       [0.69047619],\n",
              "       [0.54761905],\n",
              "       [0.60714286],\n",
              "       [0.73809524],\n",
              "       [0.66666667],\n",
              "       [0.63095238],\n",
              "       [0.64285714],\n",
              "       [0.51190476],\n",
              "       [0.70238095],\n",
              "       [0.5952381 ],\n",
              "       [0.78571429],\n",
              "       [0.80952381],\n",
              "       [0.9047619 ],\n",
              "       [0.71428571],\n",
              "       [0.69047619],\n",
              "       [0.61904762],\n",
              "       [0.64285714],\n",
              "       [0.48809524],\n",
              "       [0.89285714],\n",
              "       [0.60714286],\n",
              "       [0.53571429],\n",
              "       [0.73809524],\n",
              "       [0.8452381 ],\n",
              "       [0.70238095],\n",
              "       [0.63095238],\n",
              "       [0.61904762],\n",
              "       [0.71428571],\n",
              "       [0.82142857],\n",
              "       [0.5       ],\n",
              "       [0.57142857],\n",
              "       [0.77380952],\n",
              "       [0.66666667],\n",
              "       [0.71428571],\n",
              "       [0.64285714],\n",
              "       [0.61904762],\n",
              "       [0.67857143],\n",
              "       [0.51190476],\n",
              "       [0.80952381],\n",
              "       [0.64285714],\n",
              "       [0.46428571],\n",
              "       [0.33333333],\n",
              "       [0.38095238],\n",
              "       [0.51190476],\n",
              "       [0.53571429],\n",
              "       [0.38095238],\n",
              "       [0.4047619 ],\n",
              "       [0.38095238],\n",
              "       [0.57142857],\n",
              "       [0.28571429],\n",
              "       [0.38095238],\n",
              "       [0.57142857],\n",
              "       [0.5       ],\n",
              "       [0.60714286],\n",
              "       [0.61904762],\n",
              "       [0.32142857],\n",
              "       [0.53571429],\n",
              "       [0.57142857],\n",
              "       [0.60714286],\n",
              "       [0.33333333],\n",
              "       [0.64285714],\n",
              "       [0.61904762],\n",
              "       [0.54761905],\n",
              "       [0.52380952],\n",
              "       [0.69047619],\n",
              "       [0.58333333],\n",
              "       [0.70238095],\n",
              "       [0.47619048],\n",
              "       [0.77380952],\n",
              "       [0.63095238],\n",
              "       [0.69047619],\n",
              "       [0.66666667],\n",
              "       [0.67857143],\n",
              "       [0.66666667],\n",
              "       [0.69047619],\n",
              "       [0.73809524],\n",
              "       [0.79761905],\n",
              "       [0.69047619],\n",
              "       [0.58333333],\n",
              "       [0.76190476],\n",
              "       [0.54761905],\n",
              "       [0.70238095],\n",
              "       [0.70238095],\n",
              "       [0.70238095],\n",
              "       [0.71428571],\n",
              "       [0.64285714],\n",
              "       [0.77380952],\n",
              "       [0.67857143],\n",
              "       [0.45238095],\n",
              "       [0.57142857],\n",
              "       [0.71428571],\n",
              "       [0.54761905],\n",
              "       [0.73809524],\n",
              "       [0.77380952],\n",
              "       [0.60714286],\n",
              "       [0.53571429],\n",
              "       [0.5952381 ],\n",
              "       [0.5952381 ],\n",
              "       [0.48809524],\n",
              "       [0.46428571],\n",
              "       [0.6547619 ],\n",
              "       [0.41666667],\n",
              "       [0.44047619],\n",
              "       [0.26190476],\n",
              "       [0.60714286],\n",
              "       [0.6547619 ],\n",
              "       [0.61904762],\n",
              "       [0.57142857],\n",
              "       [0.6547619 ],\n",
              "       [0.5       ],\n",
              "       [0.6547619 ],\n",
              "       [0.58333333],\n",
              "       [0.61904762],\n",
              "       [0.67857143],\n",
              "       [0.55952381],\n",
              "       [0.64285714],\n",
              "       [0.71428571],\n",
              "       [0.60714286],\n",
              "       [0.69047619],\n",
              "       [0.6547619 ],\n",
              "       [0.60714286],\n",
              "       [0.76190476],\n",
              "       [0.72619048],\n",
              "       [0.77380952],\n",
              "       [0.69047619],\n",
              "       [0.57142857],\n",
              "       [0.69047619],\n",
              "       [0.64285714],\n",
              "       [0.75      ],\n",
              "       [0.60714286],\n",
              "       [0.51190476],\n",
              "       [0.5952381 ],\n",
              "       [0.91666667],\n",
              "       [0.78571429],\n",
              "       [0.82142857],\n",
              "       [0.70238095],\n",
              "       [0.66666667],\n",
              "       [0.72619048],\n",
              "       [0.66666667],\n",
              "       [0.63095238],\n",
              "       [0.75      ],\n",
              "       [0.69047619],\n",
              "       [0.83333333],\n",
              "       [0.96428571],\n",
              "       [0.73809524],\n",
              "       [0.46428571],\n",
              "       [1.        ]])"
            ]
          },
          "metadata": {
            "tags": []
          },
          "execution_count": 49
        }
      ]
    },
    {
      "cell_type": "code",
      "metadata": {
        "colab": {
          "base_uri": "https://localhost:8080/"
        },
        "id": "ZiMMd9dKjJag",
        "outputId": "73ed10e9-c864-430b-f28d-8bc2d87e767b"
      },
      "source": [
        "X_Train = []\n",
        "Y_Train = []\n",
        "for i in range(60, Train.shape[0]):\n",
        "    \n",
        "    # X_Train 0-59\n",
        "    X_Train.append(Train[i-60:i])\n",
        "    \n",
        "    # Y Would be 100 th Value based on past 60 Values \n",
        "    Y_Train.append(Train[i])\n",
        "\n",
        "# Convert into Numpy Array\n",
        "X_Train = np.array(X_Train)\n",
        "Y_Train = np.array(Y_Train)\n",
        "\n",
        "print(X_Train.shape)\n",
        "print(Y_Train.shape)"
      ],
      "execution_count": null,
      "outputs": [
        {
          "output_type": "stream",
          "text": [
            "(570, 60, 1)\n",
            "(570, 1)\n"
          ],
          "name": "stdout"
        }
      ]
    },
    {
      "cell_type": "code",
      "metadata": {
        "colab": {
          "base_uri": "https://localhost:8080/"
        },
        "id": "iyFkilZejM8C",
        "outputId": "dc35dec4-f799-4e1d-809f-62241181eb75"
      },
      "source": [
        "X_Train = np.reshape(X_Train, newshape=(X_Train.shape[0], X_Train.shape[1], 1))\n",
        "X_Train.shape"
      ],
      "execution_count": null,
      "outputs": [
        {
          "output_type": "execute_result",
          "data": {
            "text/plain": [
              "(570, 60, 1)"
            ]
          },
          "metadata": {
            "tags": []
          },
          "execution_count": 51
        }
      ]
    },
    {
      "cell_type": "code",
      "metadata": {
        "id": "wq-vfZKGjzTn"
      },
      "source": [
        "from keras.models import Sequential\n",
        "from keras.layers import Dense, Dropout\n",
        "from keras.layers import Embedding\n",
        "from keras.layers import LSTM"
      ],
      "execution_count": null,
      "outputs": []
    },
    {
      "cell_type": "code",
      "metadata": {
        "id": "mu0ANmUpjVlB"
      },
      "source": [
        "regressor = Sequential()\n",
        "\n",
        "# Adding the first LSTM layer and some Dropout regularisation\n",
        "regressor.add(LSTM(units = 50, return_sequences = True, input_shape = (X_Train.shape[1], 1)))\n",
        "regressor.add(Dropout(0.2))\n",
        "\n",
        "# Adding a second LSTM layer and some Dropout regularisation\n",
        "regressor.add(LSTM(units = 50, return_sequences = True))\n",
        "regressor.add(Dropout(0.2))\n",
        "\n",
        "# Adding a third LSTM layer and some Dropout regularisation\n",
        "regressor.add(LSTM(units = 50, return_sequences = True))\n",
        "regressor.add(Dropout(0.2))\n",
        "\n",
        "# Adding a fourth LSTM layer and some Dropout regularisation\n",
        "regressor.add(LSTM(units = 50))\n",
        "regressor.add(Dropout(0.2))\n",
        "\n",
        "# Adding the output layer\n",
        "regressor.add(Dense(units = 1))\n",
        "\n",
        "# Compiling the RNN\n",
        "regressor.compile(optimizer = 'adam', loss = 'mean_squared_error')"
      ],
      "execution_count": null,
      "outputs": []
    },
    {
      "cell_type": "code",
      "metadata": {
        "colab": {
          "base_uri": "https://localhost:8080/"
        },
        "id": "3a-zJM-ljwXR",
        "outputId": "0f21c428-df20-4178-aa0b-0068416a7d79"
      },
      "source": [
        "regressor.fit(X_Train, Y_Train, epochs = 25, batch_size = 8)"
      ],
      "execution_count": null,
      "outputs": [
        {
          "output_type": "stream",
          "text": [
            "Epoch 1/25\n",
            "72/72 [==============================] - 13s 89ms/step - loss: 0.0820\n",
            "Epoch 2/25\n",
            "72/72 [==============================] - 7s 94ms/step - loss: 0.0260\n",
            "Epoch 3/25\n",
            "72/72 [==============================] - 7s 95ms/step - loss: 0.0241\n",
            "Epoch 4/25\n",
            "72/72 [==============================] - 7s 96ms/step - loss: 0.0228\n",
            "Epoch 5/25\n",
            "72/72 [==============================] - 6s 90ms/step - loss: 0.0197\n",
            "Epoch 6/25\n",
            "72/72 [==============================] - 6s 89ms/step - loss: 0.0193\n",
            "Epoch 7/25\n",
            "72/72 [==============================] - 6s 90ms/step - loss: 0.0224\n",
            "Epoch 8/25\n",
            "72/72 [==============================] - 6s 89ms/step - loss: 0.0188\n",
            "Epoch 9/25\n",
            "72/72 [==============================] - 7s 91ms/step - loss: 0.0208\n",
            "Epoch 10/25\n",
            "72/72 [==============================] - 6s 89ms/step - loss: 0.0183\n",
            "Epoch 11/25\n",
            "72/72 [==============================] - 6s 88ms/step - loss: 0.0175\n",
            "Epoch 12/25\n",
            "72/72 [==============================] - 6s 89ms/step - loss: 0.0198\n",
            "Epoch 13/25\n",
            "72/72 [==============================] - 6s 89ms/step - loss: 0.0161\n",
            "Epoch 14/25\n",
            "72/72 [==============================] - 6s 89ms/step - loss: 0.0168\n",
            "Epoch 15/25\n",
            "72/72 [==============================] - 6s 88ms/step - loss: 0.0180\n",
            "Epoch 16/25\n",
            "72/72 [==============================] - 6s 88ms/step - loss: 0.0173\n",
            "Epoch 17/25\n",
            "72/72 [==============================] - 6s 85ms/step - loss: 0.0197\n",
            "Epoch 18/25\n",
            "72/72 [==============================] - 6s 88ms/step - loss: 0.0156\n",
            "Epoch 19/25\n",
            "72/72 [==============================] - 6s 87ms/step - loss: 0.0190\n",
            "Epoch 20/25\n",
            "72/72 [==============================] - 6s 88ms/step - loss: 0.0182\n",
            "Epoch 21/25\n",
            "72/72 [==============================] - 6s 88ms/step - loss: 0.0186\n",
            "Epoch 22/25\n",
            "72/72 [==============================] - 6s 88ms/step - loss: 0.0167\n",
            "Epoch 23/25\n",
            "72/72 [==============================] - 6s 87ms/step - loss: 0.0155\n",
            "Epoch 24/25\n",
            "72/72 [==============================] - 6s 85ms/step - loss: 0.0174\n",
            "Epoch 25/25\n",
            "72/72 [==============================] - 6s 90ms/step - loss: 0.0157\n"
          ],
          "name": "stdout"
        },
        {
          "output_type": "execute_result",
          "data": {
            "text/plain": [
              "<tensorflow.python.keras.callbacks.History at 0x7f540423a890>"
            ]
          },
          "metadata": {
            "tags": []
          },
          "execution_count": 54
        }
      ]
    },
    {
      "cell_type": "code",
      "metadata": {
        "colab": {
          "base_uri": "https://localhost:8080/",
          "height": 225
        },
        "id": "2N7nK4EyloAs",
        "outputId": "fb2dc69d-0023-4ef4-fe5b-fc0d6e979bd6"
      },
      "source": [
        "TestData.head()"
      ],
      "execution_count": null,
      "outputs": [
        {
          "output_type": "execute_result",
          "data": {
            "text/html": [
              "<div>\n",
              "<style scoped>\n",
              "    .dataframe tbody tr th:only-of-type {\n",
              "        vertical-align: middle;\n",
              "    }\n",
              "\n",
              "    .dataframe tbody tr th {\n",
              "        vertical-align: top;\n",
              "    }\n",
              "\n",
              "    .dataframe thead th {\n",
              "        text-align: right;\n",
              "    }\n",
              "</style>\n",
              "<table border=\"1\" class=\"dataframe\">\n",
              "  <thead>\n",
              "    <tr style=\"text-align: right;\">\n",
              "      <th></th>\n",
              "      <th>sales</th>\n",
              "      <th>Month</th>\n",
              "      <th>Year</th>\n",
              "      <th>Week</th>\n",
              "    </tr>\n",
              "    <tr>\n",
              "      <th>date</th>\n",
              "      <th></th>\n",
              "      <th></th>\n",
              "      <th></th>\n",
              "      <th></th>\n",
              "    </tr>\n",
              "  </thead>\n",
              "  <tbody>\n",
              "    <tr>\n",
              "      <th>2016-09-22</th>\n",
              "      <td>132</td>\n",
              "      <td>9</td>\n",
              "      <td>2016</td>\n",
              "      <td>38</td>\n",
              "    </tr>\n",
              "    <tr>\n",
              "      <th>2016-09-23</th>\n",
              "      <td>127</td>\n",
              "      <td>9</td>\n",
              "      <td>2016</td>\n",
              "      <td>38</td>\n",
              "    </tr>\n",
              "    <tr>\n",
              "      <th>2016-09-24</th>\n",
              "      <td>122</td>\n",
              "      <td>9</td>\n",
              "      <td>2016</td>\n",
              "      <td>38</td>\n",
              "    </tr>\n",
              "    <tr>\n",
              "      <th>2016-09-25</th>\n",
              "      <td>121</td>\n",
              "      <td>9</td>\n",
              "      <td>2016</td>\n",
              "      <td>38</td>\n",
              "    </tr>\n",
              "    <tr>\n",
              "      <th>2016-09-26</th>\n",
              "      <td>101</td>\n",
              "      <td>9</td>\n",
              "      <td>2016</td>\n",
              "      <td>39</td>\n",
              "    </tr>\n",
              "  </tbody>\n",
              "</table>\n",
              "</div>"
            ],
            "text/plain": [
              "            sales  Month  Year  Week\n",
              "date                                \n",
              "2016-09-22    132      9  2016    38\n",
              "2016-09-23    127      9  2016    38\n",
              "2016-09-24    122      9  2016    38\n",
              "2016-09-25    121      9  2016    38\n",
              "2016-09-26    101      9  2016    39"
            ]
          },
          "metadata": {
            "tags": []
          },
          "execution_count": 55
        }
      ]
    },
    {
      "cell_type": "code",
      "metadata": {
        "colab": {
          "base_uri": "https://localhost:8080/",
          "height": 225
        },
        "id": "QsB3FjnymQXQ",
        "outputId": "46045a5f-e018-4dd0-f1ed-ea8c40b92308"
      },
      "source": [
        "NewDataset.head()"
      ],
      "execution_count": null,
      "outputs": [
        {
          "output_type": "execute_result",
          "data": {
            "text/html": [
              "<div>\n",
              "<style scoped>\n",
              "    .dataframe tbody tr th:only-of-type {\n",
              "        vertical-align: middle;\n",
              "    }\n",
              "\n",
              "    .dataframe tbody tr th {\n",
              "        vertical-align: top;\n",
              "    }\n",
              "\n",
              "    .dataframe thead th {\n",
              "        text-align: right;\n",
              "    }\n",
              "</style>\n",
              "<table border=\"1\" class=\"dataframe\">\n",
              "  <thead>\n",
              "    <tr style=\"text-align: right;\">\n",
              "      <th></th>\n",
              "      <th>sales</th>\n",
              "      <th>Month</th>\n",
              "      <th>Year</th>\n",
              "      <th>Week</th>\n",
              "    </tr>\n",
              "    <tr>\n",
              "      <th>date</th>\n",
              "      <th></th>\n",
              "      <th></th>\n",
              "      <th></th>\n",
              "      <th></th>\n",
              "    </tr>\n",
              "  </thead>\n",
              "  <tbody>\n",
              "    <tr>\n",
              "      <th>2015-01-01</th>\n",
              "      <td>106</td>\n",
              "      <td>1</td>\n",
              "      <td>2015</td>\n",
              "      <td>1</td>\n",
              "    </tr>\n",
              "    <tr>\n",
              "      <th>2015-01-02</th>\n",
              "      <td>122</td>\n",
              "      <td>1</td>\n",
              "      <td>2015</td>\n",
              "      <td>1</td>\n",
              "    </tr>\n",
              "    <tr>\n",
              "      <th>2015-01-03</th>\n",
              "      <td>127</td>\n",
              "      <td>1</td>\n",
              "      <td>2015</td>\n",
              "      <td>1</td>\n",
              "    </tr>\n",
              "    <tr>\n",
              "      <th>2015-01-04</th>\n",
              "      <td>106</td>\n",
              "      <td>1</td>\n",
              "      <td>2015</td>\n",
              "      <td>1</td>\n",
              "    </tr>\n",
              "    <tr>\n",
              "      <th>2015-01-05</th>\n",
              "      <td>89</td>\n",
              "      <td>1</td>\n",
              "      <td>2015</td>\n",
              "      <td>2</td>\n",
              "    </tr>\n",
              "  </tbody>\n",
              "</table>\n",
              "</div>"
            ],
            "text/plain": [
              "            sales  Month  Year  Week\n",
              "date                                \n",
              "2015-01-01    106      1  2015     1\n",
              "2015-01-02    122      1  2015     1\n",
              "2015-01-03    127      1  2015     1\n",
              "2015-01-04    106      1  2015     1\n",
              "2015-01-05     89      1  2015     2"
            ]
          },
          "metadata": {
            "tags": []
          },
          "execution_count": 56
        }
      ]
    },
    {
      "cell_type": "code",
      "metadata": {
        "colab": {
          "base_uri": "https://localhost:8080/"
        },
        "id": "YKjSR9g6lqln",
        "outputId": "ca782ce7-3e61-478f-b878-d79ccf8da840"
      },
      "source": [
        "TestData.shape\n"
      ],
      "execution_count": null,
      "outputs": [
        {
          "output_type": "execute_result",
          "data": {
            "text/plain": [
              "(100, 4)"
            ]
          },
          "metadata": {
            "tags": []
          },
          "execution_count": 57
        }
      ]
    },
    {
      "cell_type": "code",
      "metadata": {
        "colab": {
          "base_uri": "https://localhost:8080/"
        },
        "id": "iKGXUc6EmEJR",
        "outputId": "b09e21d5-7e92-4d27-a86a-d905c8203570"
      },
      "source": [
        "NewDataset.shape"
      ],
      "execution_count": null,
      "outputs": [
        {
          "output_type": "execute_result",
          "data": {
            "text/plain": [
              "(730, 4)"
            ]
          },
          "metadata": {
            "tags": []
          },
          "execution_count": 58
        }
      ]
    },
    {
      "cell_type": "code",
      "metadata": {
        "id": "CAl2IQZzmHr8"
      },
      "source": [
        "Df_Total = pd.concat((NewDataset[[\"sales\"]], TestData[[\"sales\"]]), axis=0)"
      ],
      "execution_count": null,
      "outputs": []
    },
    {
      "cell_type": "code",
      "metadata": {
        "colab": {
          "base_uri": "https://localhost:8080/"
        },
        "id": "eiV2XKlKmUO1",
        "outputId": "0620d6ea-c90f-4c34-c2ee-5ec346d0abb0"
      },
      "source": [
        "Df_Total.shape"
      ],
      "execution_count": null,
      "outputs": [
        {
          "output_type": "execute_result",
          "data": {
            "text/plain": [
              "(830, 1)"
            ]
          },
          "metadata": {
            "tags": []
          },
          "execution_count": 69
        }
      ]
    },
    {
      "cell_type": "code",
      "metadata": {
        "colab": {
          "base_uri": "https://localhost:8080/"
        },
        "id": "Dg4RZ2FHmhEI",
        "outputId": "c22a69ce-eaca-4b30-90d7-4fa332571a38"
      },
      "source": [
        "inputs = Df_Total[len(Df_Total) - len(TestData) - 60:].values\n",
        "inputs.shape"
      ],
      "execution_count": null,
      "outputs": [
        {
          "output_type": "execute_result",
          "data": {
            "text/plain": [
              "(160, 1)"
            ]
          },
          "metadata": {
            "tags": []
          },
          "execution_count": 70
        }
      ]
    },
    {
      "cell_type": "code",
      "metadata": {
        "id": "YJHecsacmnEg"
      },
      "source": [
        "inputs = Df_Total[len(Df_Total) - len(TestData) - 60:].values\n",
        "\n",
        "# Reshape\n",
        "inputs = inputs.reshape(-1,1)\n",
        "\n",
        "# Normalize\n",
        "inputs = sc.transform(inputs)\n",
        "\n",
        "X_test = []\n",
        "for i in range(60, 160):\n",
        "    X_test.append(inputs[i-60:i])\n",
        "    \n",
        "\n",
        "X_test = np.array(X_test)\n",
        "\n",
        "\n",
        "X_test = np.reshape(X_test, (X_test.shape[0], X_test.shape[1], 1))\n",
        "\n",
        "predicted= regressor.predict(X_test)\n",
        "\n",
        "\n",
        "predicted= sc.inverse_transform(predicted)"
      ],
      "execution_count": null,
      "outputs": []
    },
    {
      "cell_type": "code",
      "metadata": {
        "id": "HbEa8_t6ntlS"
      },
      "source": [
        "True_Demand = TestData[\"sales\"].to_list()\n",
        "Predicted_Demand  = predicted\n",
        "dates = TestData.index.to_list()"
      ],
      "execution_count": null,
      "outputs": []
    },
    {
      "cell_type": "code",
      "metadata": {
        "colab": {
          "base_uri": "https://localhost:8080/",
          "height": 402
        },
        "id": "loLLEBJzoSHx",
        "outputId": "481691c7-c6ce-4100-afb0-8a026b4c576d"
      },
      "source": [
        "Machine_Df = pd.DataFrame(data={\n",
        "    \"Date\":dates,\n",
        "    \"TrueDemand\": True_Demand,\n",
        "    \"PredictedDemand\":[x[0] for x in Predicted_Demand]\n",
        "    })\n",
        "Machine_Df"
      ],
      "execution_count": null,
      "outputs": [
        {
          "output_type": "execute_result",
          "data": {
            "text/html": [
              "<div>\n",
              "<style scoped>\n",
              "    .dataframe tbody tr th:only-of-type {\n",
              "        vertical-align: middle;\n",
              "    }\n",
              "\n",
              "    .dataframe tbody tr th {\n",
              "        vertical-align: top;\n",
              "    }\n",
              "\n",
              "    .dataframe thead th {\n",
              "        text-align: right;\n",
              "    }\n",
              "</style>\n",
              "<table border=\"1\" class=\"dataframe\">\n",
              "  <thead>\n",
              "    <tr style=\"text-align: right;\">\n",
              "      <th></th>\n",
              "      <th>Date</th>\n",
              "      <th>TrueDemand</th>\n",
              "      <th>PredictedDemand</th>\n",
              "    </tr>\n",
              "  </thead>\n",
              "  <tbody>\n",
              "    <tr>\n",
              "      <th>0</th>\n",
              "      <td>2016-09-22</td>\n",
              "      <td>132</td>\n",
              "      <td>122.144524</td>\n",
              "    </tr>\n",
              "    <tr>\n",
              "      <th>1</th>\n",
              "      <td>2016-09-23</td>\n",
              "      <td>127</td>\n",
              "      <td>122.436096</td>\n",
              "    </tr>\n",
              "    <tr>\n",
              "      <th>2</th>\n",
              "      <td>2016-09-24</td>\n",
              "      <td>122</td>\n",
              "      <td>122.761208</td>\n",
              "    </tr>\n",
              "    <tr>\n",
              "      <th>3</th>\n",
              "      <td>2016-09-25</td>\n",
              "      <td>121</td>\n",
              "      <td>123.111252</td>\n",
              "    </tr>\n",
              "    <tr>\n",
              "      <th>4</th>\n",
              "      <td>2016-09-26</td>\n",
              "      <td>101</td>\n",
              "      <td>123.330101</td>\n",
              "    </tr>\n",
              "    <tr>\n",
              "      <th>...</th>\n",
              "      <td>...</td>\n",
              "      <td>...</td>\n",
              "      <td>...</td>\n",
              "    </tr>\n",
              "    <tr>\n",
              "      <th>95</th>\n",
              "      <td>2016-12-26</td>\n",
              "      <td>102</td>\n",
              "      <td>121.063286</td>\n",
              "    </tr>\n",
              "    <tr>\n",
              "      <th>96</th>\n",
              "      <td>2016-12-27</td>\n",
              "      <td>120</td>\n",
              "      <td>121.387787</td>\n",
              "    </tr>\n",
              "    <tr>\n",
              "      <th>97</th>\n",
              "      <td>2016-12-28</td>\n",
              "      <td>121</td>\n",
              "      <td>121.662247</td>\n",
              "    </tr>\n",
              "    <tr>\n",
              "      <th>98</th>\n",
              "      <td>2016-12-29</td>\n",
              "      <td>133</td>\n",
              "      <td>121.837074</td>\n",
              "    </tr>\n",
              "    <tr>\n",
              "      <th>99</th>\n",
              "      <td>2016-12-30</td>\n",
              "      <td>112</td>\n",
              "      <td>122.028748</td>\n",
              "    </tr>\n",
              "  </tbody>\n",
              "</table>\n",
              "<p>100 rows × 3 columns</p>\n",
              "</div>"
            ],
            "text/plain": [
              "         Date  TrueDemand  PredictedDemand\n",
              "0  2016-09-22         132       122.144524\n",
              "1  2016-09-23         127       122.436096\n",
              "2  2016-09-24         122       122.761208\n",
              "3  2016-09-25         121       123.111252\n",
              "4  2016-09-26         101       123.330101\n",
              "..        ...         ...              ...\n",
              "95 2016-12-26         102       121.063286\n",
              "96 2016-12-27         120       121.387787\n",
              "97 2016-12-28         121       121.662247\n",
              "98 2016-12-29         133       121.837074\n",
              "99 2016-12-30         112       122.028748\n",
              "\n",
              "[100 rows x 3 columns]"
            ]
          },
          "metadata": {
            "tags": []
          },
          "execution_count": 73
        }
      ]
    },
    {
      "cell_type": "code",
      "metadata": {
        "id": "-JffBOY3owJd"
      },
      "source": [
        "True_Demand = TestData[\"sales\"].to_list()\n",
        "Predicted_Demand  = [x[0] for x in Predicted_Demand ]\n",
        "dates = TestData.index.to_list()"
      ],
      "execution_count": null,
      "outputs": []
    },
    {
      "cell_type": "code",
      "metadata": {
        "colab": {
          "base_uri": "https://localhost:8080/"
        },
        "id": "yKc8_MA4tqzM",
        "outputId": "3454a992-8116-466f-b628-eb2383aee0d6"
      },
      "source": [
        "Predicted_Demand"
      ],
      "execution_count": null,
      "outputs": [
        {
          "output_type": "execute_result",
          "data": {
            "text/plain": [
              "[122.14452,\n",
              " 122.4361,\n",
              " 122.76121,\n",
              " 123.11125,\n",
              " 123.3301,\n",
              " 123.39454,\n",
              " 123.328064,\n",
              " 123.23192,\n",
              " 123.34907,\n",
              " 123.452576,\n",
              " 123.642586,\n",
              " 123.83169,\n",
              " 124.08067,\n",
              " 124.3001,\n",
              " 124.34069,\n",
              " 124.196846,\n",
              " 123.7365,\n",
              " 122.95654,\n",
              " 121.966934,\n",
              " 120.903244,\n",
              " 119.8459,\n",
              " 118.857956,\n",
              " 118.02825,\n",
              " 117.40678,\n",
              " 116.93308,\n",
              " 116.53532,\n",
              " 116.277374,\n",
              " 116.09543,\n",
              " 115.95743,\n",
              " 115.737724,\n",
              " 115.59298,\n",
              " 115.5164,\n",
              " 115.5406,\n",
              " 115.68998,\n",
              " 115.97188,\n",
              " 116.40494,\n",
              " 116.984924,\n",
              " 117.51225,\n",
              " 117.85359,\n",
              " 118.06105,\n",
              " 118.40641,\n",
              " 118.76385,\n",
              " 119.17365,\n",
              " 119.683914,\n",
              " 120.42332,\n",
              " 121.34563,\n",
              " 122.28982,\n",
              " 123.24099,\n",
              " 124.085754,\n",
              " 124.75655,\n",
              " 125.28582,\n",
              " 125.81385,\n",
              " 126.303925,\n",
              " 126.615425,\n",
              " 126.80372,\n",
              " 126.754906,\n",
              " 126.49697,\n",
              " 126.1096,\n",
              " 125.614784,\n",
              " 125.146484,\n",
              " 124.73751,\n",
              " 124.40317,\n",
              " 124.15595,\n",
              " 123.91782,\n",
              " 123.593704,\n",
              " 123.22194,\n",
              " 122.72593,\n",
              " 122.1834,\n",
              " 121.68862,\n",
              " 121.24398,\n",
              " 120.61446,\n",
              " 119.9836,\n",
              " 119.30974,\n",
              " 118.65501,\n",
              " 118.04506,\n",
              " 117.503876,\n",
              " 117.07794,\n",
              " 116.664406,\n",
              " 116.12032,\n",
              " 115.56813,\n",
              " 115.04482,\n",
              " 114.441605,\n",
              " 114.1668,\n",
              " 114.39321,\n",
              " 115.045685,\n",
              " 115.91926,\n",
              " 116.65864,\n",
              " 117.356766,\n",
              " 117.922104,\n",
              " 118.38753,\n",
              " 118.66361,\n",
              " 119.045715,\n",
              " 119.539665,\n",
              " 120.046646,\n",
              " 120.571236,\n",
              " 121.063286,\n",
              " 121.38779,\n",
              " 121.66225,\n",
              " 121.837074,\n",
              " 122.02875]"
            ]
          },
          "metadata": {
            "tags": []
          },
          "execution_count": 75
        }
      ]
    },
    {
      "cell_type": "code",
      "metadata": {
        "colab": {
          "base_uri": "https://localhost:8080/",
          "height": 587
        },
        "id": "dLT9vHFyp9P7",
        "outputId": "7866f265-77b7-43d2-c379-bae783e3c874"
      },
      "source": [
        "fig = plt.figure()\n",
        "\n",
        "ax1= fig.add_subplot(111)\n",
        "\n",
        "x = dates\n",
        "y = True_Demand\n",
        "\n",
        "y1 = Predicted_Demand\n",
        "\n",
        "plt.plot(x,y, color=\"green\")\n",
        "plt.plot(x,y1, color=\"red\")\n",
        "\n",
        "\n",
        "\n",
        "plt.gcf().autofmt_xdate()\n",
        "plt.xlabel('Dates')\n",
        "plt.ylabel(\"Sales\")\n",
        "plt.title(\"Predicted Future Demand\")\n",
        "plt.legend()"
      ],
      "execution_count": null,
      "outputs": [
        {
          "output_type": "error",
          "ename": "TypeError",
          "evalue": "ignored",
          "traceback": [
            "\u001b[0;31m---------------------------------------------------------------------------\u001b[0m",
            "\u001b[0;31mTypeError\u001b[0m                                 Traceback (most recent call last)",
            "\u001b[0;32m<ipython-input-79-30541434be23>\u001b[0m in \u001b[0;36m<module>\u001b[0;34m()\u001b[0m\n\u001b[1;32m     14\u001b[0m \u001b[0;34m\u001b[0m\u001b[0m\n\u001b[1;32m     15\u001b[0m \u001b[0mplt\u001b[0m\u001b[0;34m.\u001b[0m\u001b[0mgcf\u001b[0m\u001b[0;34m(\u001b[0m\u001b[0;34m)\u001b[0m\u001b[0;34m.\u001b[0m\u001b[0mautofmt_xdate\u001b[0m\u001b[0;34m(\u001b[0m\u001b[0;34m)\u001b[0m\u001b[0;34m\u001b[0m\u001b[0;34m\u001b[0m\u001b[0m\n\u001b[0;32m---> 16\u001b[0;31m \u001b[0mplt\u001b[0m\u001b[0;34m.\u001b[0m\u001b[0mxlabel\u001b[0m\u001b[0;34m(\u001b[0m\u001b[0;34m'Dates'\u001b[0m\u001b[0;34m)\u001b[0m\u001b[0;34m\u001b[0m\u001b[0;34m\u001b[0m\u001b[0m\n\u001b[0m\u001b[1;32m     17\u001b[0m \u001b[0mplt\u001b[0m\u001b[0;34m.\u001b[0m\u001b[0mylabel\u001b[0m\u001b[0;34m(\u001b[0m\u001b[0;34m\"Sales\"\u001b[0m\u001b[0;34m)\u001b[0m\u001b[0;34m\u001b[0m\u001b[0;34m\u001b[0m\u001b[0m\n\u001b[1;32m     18\u001b[0m \u001b[0mplt\u001b[0m\u001b[0;34m.\u001b[0m\u001b[0mtitle\u001b[0m\u001b[0;34m(\u001b[0m\u001b[0;34m\"Predicted Future Demand\"\u001b[0m\u001b[0;34m)\u001b[0m\u001b[0;34m\u001b[0m\u001b[0;34m\u001b[0m\u001b[0m\n",
            "\u001b[0;31mTypeError\u001b[0m: 'str' object is not callable"
          ]
        },
        {
          "output_type": "display_data",
          "data": {
            "image/png": "[encoded data removed]",
            "text/plain": [
              "<Figure size 1296x432 with 1 Axes>"
            ]
          },
          "metadata": {
            "tags": []
          }
        }
      ]
    },
    {
      "cell_type": "code",
      "metadata": {
        "colab": {
          "base_uri": "https://localhost:8080/"
        },
        "id": "51S3XuRtsmdg",
        "outputId": "44b69a86-4e03-4da9-af65-e714c5cf21f2"
      },
      "source": [
        "from statsmodels.tools.eval_measures import rmse\n",
        "rmse_error = rmse(TestData['sales'], Predicted_Demand)\n",
        "mse_error = rmse_error**2\n",
        "mean_value = TestData['sales'].mean()\n",
        "mape = np.mean(np.abs((Predicted_Demand - TestData['sales']) / TestData['sales'])) * 100"
      ],
      "execution_count": null,
      "outputs": [
        {
          "output_type": "stream",
          "text": [
            "/usr/local/lib/python3.7/dist-packages/statsmodels/tools/_testing.py:19: FutureWarning: pandas.util.testing is deprecated. Use the functions in the public API at pandas.testing instead.\n",
            "  import pandas.util.testing as tm\n"
          ],
          "name": "stderr"
        }
      ]
    },
    {
      "cell_type": "code",
      "metadata": {
        "colab": {
          "base_uri": "https://localhost:8080/"
        },
        "id": "_S04rW4B3jiz",
        "outputId": "5e7c6fcf-620d-42a4-afb0-f4100a3a09fc"
      },
      "source": [
        "rmse_error"
      ],
      "execution_count": null,
      "outputs": [
        {
          "output_type": "execute_result",
          "data": {
            "text/plain": [
              "11.825668306920113"
            ]
          },
          "metadata": {
            "tags": []
          },
          "execution_count": 81
        }
      ]
    },
    {
      "cell_type": "code",
      "metadata": {
        "colab": {
          "base_uri": "https://localhost:8080/"
        },
        "id": "1t2J2rjG4OaS",
        "outputId": "38b239cd-fe4b-4166-f11e-d419dde5dcc7"
      },
      "source": [
        "mape"
      ],
      "execution_count": null,
      "outputs": [
        {
          "output_type": "execute_result",
          "data": {
            "text/plain": [
              "7.662148988886187"
            ]
          },
          "metadata": {
            "tags": []
          },
          "execution_count": 82
        }
      ]
    },
    {
      "cell_type": "code",
      "metadata": {
        "id": "P3jX25Lo4P8f"
      },
      "source": [
        ""
      ],
      "execution_count": null,
      "outputs": []
    }
  ]
}